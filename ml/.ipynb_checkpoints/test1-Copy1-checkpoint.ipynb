{
 "cells": [
  {
   "cell_type": "code",
   "execution_count": 1,
   "metadata": {},
   "outputs": [],
   "source": [
    "import pandas as pd\n",
    "import numpy as np\n",
    "from matplotlib import pyplot as plt\n",
    "import seaborn as sns\n",
    "from scipy.sparse import csc_matrix\n",
    "from sklearn.neighbors import NearestNeighbors\n",
    "%matplotlib inline\n",
    "\n",
    "count_votes = 11"
   ]
  },
  {
   "cell_type": "code",
   "execution_count": 5,
   "metadata": {},
   "outputs": [],
   "source": [
    "data = pd.read_csv('../data/ip.csv',  \n",
    "                       sep=' ', encoding='UTF-8'\n",
    "                      )"
   ]
  },
  {
   "cell_type": "code",
   "execution_count": 21,
   "metadata": {},
   "outputs": [
    {
     "data": {
      "text/html": [
       "<div>\n",
       "<style scoped>\n",
       "    .dataframe tbody tr th:only-of-type {\n",
       "        vertical-align: middle;\n",
       "    }\n",
       "\n",
       "    .dataframe tbody tr th {\n",
       "        vertical-align: top;\n",
       "    }\n",
       "\n",
       "    .dataframe thead th {\n",
       "        text-align: right;\n",
       "    }\n",
       "</style>\n",
       "<table border=\"1\" class=\"dataframe\">\n",
       "  <thead>\n",
       "    <tr style=\"text-align: right;\">\n",
       "      <th></th>\n",
       "      <th>ip</th>\n",
       "      <th>uri</th>\n",
       "      <th>agent</th>\n",
       "    </tr>\n",
       "  </thead>\n",
       "  <tbody>\n",
       "    <tr>\n",
       "      <th>0</th>\n",
       "      <td>91.204.252.232</td>\n",
       "      <td>/car_stickers/vdv/VDV-24-03/</td>\n",
       "      <td>Mozilla/5.0(iPad;CPUOS6_0likeMacOSX)AppleWebKi...</td>\n",
       "    </tr>\n",
       "    <tr>\n",
       "      <th>1</th>\n",
       "      <td>1.60.33.231</td>\n",
       "      <td>/car_stickers/russia/gerb-RF/</td>\n",
       "      <td>Mozilla/5.0(Linux;Android7.0;SM-G930FBuild/NRD...</td>\n",
       "    </tr>\n",
       "    <tr>\n",
       "      <th>2</th>\n",
       "      <td>1.60.33.231</td>\n",
       "      <td>/car_stickers/russia/gerbRF-polnosvet/</td>\n",
       "      <td>Mozilla/5.0(Linux;Android7.0;SM-G930FBuild/NRD...</td>\n",
       "    </tr>\n",
       "    <tr>\n",
       "      <th>3</th>\n",
       "      <td>1.60.33.231</td>\n",
       "      <td>/car_stickers/russia/gerbRF-polnosvet/</td>\n",
       "      <td>Mozilla/5.0(Linux;Android7.0;SM-G930FBuild/NRD...</td>\n",
       "    </tr>\n",
       "    <tr>\n",
       "      <th>4</th>\n",
       "      <td>1.60.33.231</td>\n",
       "      <td>/car_stickers/russia/gerb-RF/</td>\n",
       "      <td>Mozilla/5.0(Linux;Android7.0;SM-G930FBuild/NRD...</td>\n",
       "    </tr>\n",
       "  </tbody>\n",
       "</table>\n",
       "</div>"
      ],
      "text/plain": [
       "               ip                                     uri  \\\n",
       "0  91.204.252.232            /car_stickers/vdv/VDV-24-03/   \n",
       "1     1.60.33.231           /car_stickers/russia/gerb-RF/   \n",
       "2     1.60.33.231  /car_stickers/russia/gerbRF-polnosvet/   \n",
       "3     1.60.33.231  /car_stickers/russia/gerbRF-polnosvet/   \n",
       "4     1.60.33.231           /car_stickers/russia/gerb-RF/   \n",
       "\n",
       "                                               agent  \n",
       "0  Mozilla/5.0(iPad;CPUOS6_0likeMacOSX)AppleWebKi...  \n",
       "1  Mozilla/5.0(Linux;Android7.0;SM-G930FBuild/NRD...  \n",
       "2  Mozilla/5.0(Linux;Android7.0;SM-G930FBuild/NRD...  \n",
       "3  Mozilla/5.0(Linux;Android7.0;SM-G930FBuild/NRD...  \n",
       "4  Mozilla/5.0(Linux;Android7.0;SM-G930FBuild/NRD...  "
      ]
     },
     "execution_count": 21,
     "metadata": {},
     "output_type": "execute_result"
    }
   ],
   "source": [
    "data.head()"
   ]
  },
  {
   "cell_type": "code",
   "execution_count": 22,
   "metadata": {},
   "outputs": [],
   "source": [
    "data['userid'] = data[['ip', 'agent']].apply(lambda x: ''.join(x), axis=1)"
   ]
  },
  {
   "cell_type": "code",
   "execution_count": 24,
   "metadata": {
    "scrolled": true
   },
   "outputs": [
    {
     "data": {
      "text/html": [
       "<div>\n",
       "<style scoped>\n",
       "    .dataframe tbody tr th:only-of-type {\n",
       "        vertical-align: middle;\n",
       "    }\n",
       "\n",
       "    .dataframe tbody tr th {\n",
       "        vertical-align: top;\n",
       "    }\n",
       "\n",
       "    .dataframe thead th {\n",
       "        text-align: right;\n",
       "    }\n",
       "</style>\n",
       "<table border=\"1\" class=\"dataframe\">\n",
       "  <thead>\n",
       "    <tr style=\"text-align: right;\">\n",
       "      <th></th>\n",
       "      <th>ip</th>\n",
       "      <th>uri</th>\n",
       "      <th>agent</th>\n",
       "      <th>userid</th>\n",
       "    </tr>\n",
       "  </thead>\n",
       "  <tbody>\n",
       "    <tr>\n",
       "      <th>0</th>\n",
       "      <td>91.204.252.232</td>\n",
       "      <td>/car_stickers/vdv/VDV-24-03/</td>\n",
       "      <td>Mozilla/5.0(iPad;CPUOS6_0likeMacOSX)AppleWebKi...</td>\n",
       "      <td>91.204.252.232Mozilla/5.0(iPad;CPUOS6_0likeMac...</td>\n",
       "    </tr>\n",
       "    <tr>\n",
       "      <th>1</th>\n",
       "      <td>1.60.33.231</td>\n",
       "      <td>/car_stickers/russia/gerb-RF/</td>\n",
       "      <td>Mozilla/5.0(Linux;Android7.0;SM-G930FBuild/NRD...</td>\n",
       "      <td>1.60.33.231Mozilla/5.0(Linux;Android7.0;SM-G93...</td>\n",
       "    </tr>\n",
       "    <tr>\n",
       "      <th>2</th>\n",
       "      <td>1.60.33.231</td>\n",
       "      <td>/car_stickers/russia/gerbRF-polnosvet/</td>\n",
       "      <td>Mozilla/5.0(Linux;Android7.0;SM-G930FBuild/NRD...</td>\n",
       "      <td>1.60.33.231Mozilla/5.0(Linux;Android7.0;SM-G93...</td>\n",
       "    </tr>\n",
       "    <tr>\n",
       "      <th>3</th>\n",
       "      <td>1.60.33.231</td>\n",
       "      <td>/car_stickers/russia/gerbRF-polnosvet/</td>\n",
       "      <td>Mozilla/5.0(Linux;Android7.0;SM-G930FBuild/NRD...</td>\n",
       "      <td>1.60.33.231Mozilla/5.0(Linux;Android7.0;SM-G93...</td>\n",
       "    </tr>\n",
       "    <tr>\n",
       "      <th>4</th>\n",
       "      <td>1.60.33.231</td>\n",
       "      <td>/car_stickers/russia/gerb-RF/</td>\n",
       "      <td>Mozilla/5.0(Linux;Android7.0;SM-G930FBuild/NRD...</td>\n",
       "      <td>1.60.33.231Mozilla/5.0(Linux;Android7.0;SM-G93...</td>\n",
       "    </tr>\n",
       "  </tbody>\n",
       "</table>\n",
       "</div>"
      ],
      "text/plain": [
       "               ip                                     uri  \\\n",
       "0  91.204.252.232            /car_stickers/vdv/VDV-24-03/   \n",
       "1     1.60.33.231           /car_stickers/russia/gerb-RF/   \n",
       "2     1.60.33.231  /car_stickers/russia/gerbRF-polnosvet/   \n",
       "3     1.60.33.231  /car_stickers/russia/gerbRF-polnosvet/   \n",
       "4     1.60.33.231           /car_stickers/russia/gerb-RF/   \n",
       "\n",
       "                                               agent  \\\n",
       "0  Mozilla/5.0(iPad;CPUOS6_0likeMacOSX)AppleWebKi...   \n",
       "1  Mozilla/5.0(Linux;Android7.0;SM-G930FBuild/NRD...   \n",
       "2  Mozilla/5.0(Linux;Android7.0;SM-G930FBuild/NRD...   \n",
       "3  Mozilla/5.0(Linux;Android7.0;SM-G930FBuild/NRD...   \n",
       "4  Mozilla/5.0(Linux;Android7.0;SM-G930FBuild/NRD...   \n",
       "\n",
       "                                              userid  \n",
       "0  91.204.252.232Mozilla/5.0(iPad;CPUOS6_0likeMac...  \n",
       "1  1.60.33.231Mozilla/5.0(Linux;Android7.0;SM-G93...  \n",
       "2  1.60.33.231Mozilla/5.0(Linux;Android7.0;SM-G93...  \n",
       "3  1.60.33.231Mozilla/5.0(Linux;Android7.0;SM-G93...  \n",
       "4  1.60.33.231Mozilla/5.0(Linux;Android7.0;SM-G93...  "
      ]
     },
     "execution_count": 24,
     "metadata": {},
     "output_type": "execute_result"
    }
   ],
   "source": [
    "data.head()"
   ]
  },
  {
   "cell_type": "code",
   "execution_count": 25,
   "metadata": {},
   "outputs": [
    {
     "ename": "TypeError",
     "evalue": "Unicode-objects must be encoded before hashing",
     "output_type": "error",
     "traceback": [
      "\u001b[0;31m---------------------------------------------------------------------------\u001b[0m",
      "\u001b[0;31mTypeError\u001b[0m                                 Traceback (most recent call last)",
      "\u001b[0;32m<ipython-input-25-01a649f28ac0>\u001b[0m in \u001b[0;36m<module>\u001b[0;34m()\u001b[0m\n\u001b[0;32m----> 1\u001b[0;31m \u001b[0mdata\u001b[0m\u001b[0;34m[\u001b[0m\u001b[0;34m'userid'\u001b[0m\u001b[0;34m]\u001b[0m \u001b[0;34m=\u001b[0m \u001b[0;34m[\u001b[0m\u001b[0mhashlib\u001b[0m\u001b[0;34m.\u001b[0m\u001b[0mmd5\u001b[0m\u001b[0;34m(\u001b[0m\u001b[0mval\u001b[0m\u001b[0;34m)\u001b[0m\u001b[0;34m.\u001b[0m\u001b[0mhexdigest\u001b[0m\u001b[0;34m(\u001b[0m\u001b[0;34m)\u001b[0m \u001b[0;32mfor\u001b[0m \u001b[0mval\u001b[0m \u001b[0;32min\u001b[0m \u001b[0mdata\u001b[0m\u001b[0;34m[\u001b[0m\u001b[0;34m'userid'\u001b[0m\u001b[0;34m]\u001b[0m\u001b[0;34m]\u001b[0m\u001b[0;34m\u001b[0m\u001b[0m\n\u001b[0m",
      "\u001b[0;32m<ipython-input-25-01a649f28ac0>\u001b[0m in \u001b[0;36m<listcomp>\u001b[0;34m(.0)\u001b[0m\n\u001b[0;32m----> 1\u001b[0;31m \u001b[0mdata\u001b[0m\u001b[0;34m[\u001b[0m\u001b[0;34m'userid'\u001b[0m\u001b[0;34m]\u001b[0m \u001b[0;34m=\u001b[0m \u001b[0;34m[\u001b[0m\u001b[0mhashlib\u001b[0m\u001b[0;34m.\u001b[0m\u001b[0mmd5\u001b[0m\u001b[0;34m(\u001b[0m\u001b[0mval\u001b[0m\u001b[0;34m)\u001b[0m\u001b[0;34m.\u001b[0m\u001b[0mhexdigest\u001b[0m\u001b[0;34m(\u001b[0m\u001b[0;34m)\u001b[0m \u001b[0;32mfor\u001b[0m \u001b[0mval\u001b[0m \u001b[0;32min\u001b[0m \u001b[0mdata\u001b[0m\u001b[0;34m[\u001b[0m\u001b[0;34m'userid'\u001b[0m\u001b[0;34m]\u001b[0m\u001b[0;34m]\u001b[0m\u001b[0;34m\u001b[0m\u001b[0m\n\u001b[0m",
      "\u001b[0;31mTypeError\u001b[0m: Unicode-objects must be encoded before hashing"
     ]
    }
   ],
   "source": [
    "data['userid'] = [hashlib.md5(val.encode('utf-8')).hexdigest() for val in data['userid']]"
   ]
  },
  {
   "cell_type": "code",
   "execution_count": 12,
   "metadata": {},
   "outputs": [],
   "source": [
    "from hashlib import md5 "
   ]
  },
  {
   "cell_type": "code",
   "execution_count": 19,
   "metadata": {},
   "outputs": [
    {
     "name": "stdout",
     "output_type": "stream",
     "text": [
      "<class 'pandas.core.frame.DataFrame'>\n",
      "RangeIndex: 905108 entries, 0 to 905107\n",
      "Data columns (total 3 columns):\n",
      "ip       905108 non-null object\n",
      "uri      905108 non-null object\n",
      "agent    905108 non-null object\n",
      "dtypes: object(3)\n",
      "memory usage: 20.7+ MB\n"
     ]
    }
   ],
   "source": []
  },
  {
   "cell_type": "code",
   "execution_count": 5,
   "metadata": {},
   "outputs": [
    {
     "data": {
      "text/plain": [
       "(17540, 1)"
      ]
     },
     "execution_count": 5,
     "metadata": {},
     "output_type": "execute_result"
    }
   ],
   "source": [
    "products.shape"
   ]
  },
  {
   "cell_type": "code",
   "execution_count": 8,
   "metadata": {
    "scrolled": true
   },
   "outputs": [
    {
     "data": {
      "text/plain": [
       "(74574, 2)"
      ]
     },
     "execution_count": 8,
     "metadata": {},
     "output_type": "execute_result"
    }
   ],
   "source": [
    "order_products.shape"
   ]
  },
  {
   "cell_type": "code",
   "execution_count": 12,
   "metadata": {},
   "outputs": [
    {
     "name": "stdout",
     "output_type": "stream",
     "text": [
      "<class 'pandas.core.frame.DataFrame'>\n",
      "RangeIndex: 74574 entries, 0 to 74573\n",
      "Data columns (total 2 columns):\n",
      "product_id    74574 non-null int64\n",
      "order_id      74574 non-null int64\n",
      "dtypes: int64(2)\n",
      "memory usage: 1.1 MB\n"
     ]
    }
   ],
   "source": [
    "order_products.info()"
   ]
  },
  {
   "cell_type": "code",
   "execution_count": 86,
   "metadata": {},
   "outputs": [
    {
     "data": {
      "text/html": [
       "<div>\n",
       "<style scoped>\n",
       "    .dataframe tbody tr th:only-of-type {\n",
       "        vertical-align: middle;\n",
       "    }\n",
       "\n",
       "    .dataframe tbody tr th {\n",
       "        vertical-align: top;\n",
       "    }\n",
       "\n",
       "    .dataframe thead th {\n",
       "        text-align: right;\n",
       "    }\n",
       "</style>\n",
       "<table border=\"1\" class=\"dataframe\">\n",
       "  <thead>\n",
       "    <tr style=\"text-align: right;\">\n",
       "      <th></th>\n",
       "      <th>name</th>\n",
       "    </tr>\n",
       "    <tr>\n",
       "      <th>product_id</th>\n",
       "      <th></th>\n",
       "    </tr>\n",
       "  </thead>\n",
       "  <tbody>\n",
       "    <tr>\n",
       "      <th>154</th>\n",
       "      <td>АК-47</td>\n",
       "    </tr>\n",
       "    <tr>\n",
       "      <th>6236</th>\n",
       "      <td>Комар</td>\n",
       "    </tr>\n",
       "    <tr>\n",
       "      <th>6237</th>\n",
       "      <td>Куда летим?</td>\n",
       "    </tr>\n",
       "    <tr>\n",
       "      <th>152</th>\n",
       "      <td>DOZOR</td>\n",
       "    </tr>\n",
       "    <tr>\n",
       "      <th>6197</th>\n",
       "      <td>Угловой цветочный узор</td>\n",
       "    </tr>\n",
       "  </tbody>\n",
       "</table>\n",
       "</div>"
      ],
      "text/plain": [
       "                              name\n",
       "product_id                        \n",
       "154                          АК-47\n",
       "6236                         Комар\n",
       "6237                   Куда летим?\n",
       "152                          DOZOR\n",
       "6197        Угловой цветочный узор"
      ]
     },
     "execution_count": 86,
     "metadata": {},
     "output_type": "execute_result"
    }
   ],
   "source": [
    "products.head()"
   ]
  },
  {
   "cell_type": "code",
   "execution_count": 87,
   "metadata": {},
   "outputs": [
    {
     "data": {
      "text/plain": [
       "Int64Index([   37,    49,    69,   128,   216,   229,   254,   323,   344,\n",
       "              349,\n",
       "            ...\n",
       "            86511, 86531, 86553, 86595, 86633, 86639, 86658, 86665, 86717,\n",
       "            86748],\n",
       "           dtype='int64', name='order_id', length=11616)"
      ]
     },
     "execution_count": 87,
     "metadata": {},
     "output_type": "execute_result"
    }
   ],
   "source": [
    "selected_orders = order_products.groupby('order_id')['product_id'].agg(['count'])\n",
    "selected_orders = selected_orders[selected_orders['count'] > 1]\n",
    "selected_orders = selected_orders[selected_orders['count'] < 5]\n",
    "selected_orders = selected_orders.index\n",
    "selected_orders\n"
   ]
  },
  {
   "cell_type": "code",
   "execution_count": 88,
   "metadata": {},
   "outputs": [
    {
     "data": {
      "text/html": [
       "<div>\n",
       "<style scoped>\n",
       "    .dataframe tbody tr th:only-of-type {\n",
       "        vertical-align: middle;\n",
       "    }\n",
       "\n",
       "    .dataframe tbody tr th {\n",
       "        vertical-align: top;\n",
       "    }\n",
       "\n",
       "    .dataframe thead th {\n",
       "        text-align: right;\n",
       "    }\n",
       "</style>\n",
       "<table border=\"1\" class=\"dataframe\">\n",
       "  <thead>\n",
       "    <tr style=\"text-align: right;\">\n",
       "      <th></th>\n",
       "      <th>product_id</th>\n",
       "      <th>order_id</th>\n",
       "    </tr>\n",
       "  </thead>\n",
       "  <tbody>\n",
       "    <tr>\n",
       "      <th>0</th>\n",
       "      <td>259</td>\n",
       "      <td>37</td>\n",
       "    </tr>\n",
       "    <tr>\n",
       "      <th>1</th>\n",
       "      <td>154</td>\n",
       "      <td>37</td>\n",
       "    </tr>\n",
       "    <tr>\n",
       "      <th>2</th>\n",
       "      <td>156</td>\n",
       "      <td>47</td>\n",
       "    </tr>\n",
       "    <tr>\n",
       "      <th>3</th>\n",
       "      <td>178</td>\n",
       "      <td>46</td>\n",
       "    </tr>\n",
       "    <tr>\n",
       "      <th>4</th>\n",
       "      <td>156</td>\n",
       "      <td>25</td>\n",
       "    </tr>\n",
       "  </tbody>\n",
       "</table>\n",
       "</div>"
      ],
      "text/plain": [
       "   product_id  order_id\n",
       "0         259        37\n",
       "1         154        37\n",
       "2         156        47\n",
       "3         178        46\n",
       "4         156        25"
      ]
     },
     "execution_count": 88,
     "metadata": {},
     "output_type": "execute_result"
    }
   ],
   "source": [
    "order_products.head()"
   ]
  },
  {
   "cell_type": "code",
   "execution_count": 89,
   "metadata": {},
   "outputs": [
    {
     "data": {
      "text/html": [
       "<div>\n",
       "<style scoped>\n",
       "    .dataframe tbody tr th:only-of-type {\n",
       "        vertical-align: middle;\n",
       "    }\n",
       "\n",
       "    .dataframe tbody tr th {\n",
       "        vertical-align: top;\n",
       "    }\n",
       "\n",
       "    .dataframe thead th {\n",
       "        text-align: right;\n",
       "    }\n",
       "</style>\n",
       "<table border=\"1\" class=\"dataframe\">\n",
       "  <thead>\n",
       "    <tr style=\"text-align: right;\">\n",
       "      <th></th>\n",
       "      <th>count</th>\n",
       "    </tr>\n",
       "    <tr>\n",
       "      <th>product_id</th>\n",
       "      <th></th>\n",
       "    </tr>\n",
       "  </thead>\n",
       "  <tbody>\n",
       "    <tr>\n",
       "      <th>505</th>\n",
       "      <td>797</td>\n",
       "    </tr>\n",
       "    <tr>\n",
       "      <th>156</th>\n",
       "      <td>751</td>\n",
       "    </tr>\n",
       "    <tr>\n",
       "      <th>521</th>\n",
       "      <td>698</td>\n",
       "    </tr>\n",
       "    <tr>\n",
       "      <th>968</th>\n",
       "      <td>609</td>\n",
       "    </tr>\n",
       "    <tr>\n",
       "      <th>1275</th>\n",
       "      <td>575</td>\n",
       "    </tr>\n",
       "  </tbody>\n",
       "</table>\n",
       "</div>"
      ],
      "text/plain": [
       "            count\n",
       "product_id       \n",
       "505           797\n",
       "156           751\n",
       "521           698\n",
       "968           609\n",
       "1275          575"
      ]
     },
     "execution_count": 89,
     "metadata": {},
     "output_type": "execute_result"
    }
   ],
   "source": [
    "order_counts = order_products.groupby('product_id')['order_id'].agg(['count'])\n",
    "order_counts.sort_values('count', ascending=False).head()"
   ]
  },
  {
   "cell_type": "code",
   "execution_count": 90,
   "metadata": {
    "scrolled": false
   },
   "outputs": [
    {
     "name": "stdout",
     "output_type": "stream",
     "text": [
      "Кватниль 75% с количеством оценок: 7.0 шт.\n",
      "Кватниль 76% с количеством оценок: 7.0 шт.\n",
      "Кватниль 77% с количеством оценок: 8.0 шт.\n",
      "Кватниль 78% с количеством оценок: 8.0 шт.\n",
      "Кватниль 79% с количеством оценок: 8.0 шт.\n",
      "Кватниль 80% с количеством оценок: 9.0 шт.\n",
      "Кватниль 81% с количеством оценок: 9.0 шт.\n",
      "Кватниль 82% с количеством оценок: 10.0 шт.\n",
      "Кватниль 83% с количеством оценок: 10.0 шт.\n",
      "Кватниль 84% с количеством оценок: 11.0 шт.\n",
      "Кватниль 85% с количеством оценок: 12.0 шт.\n",
      "Кватниль 86% с количеством оценок: 12.0 шт.\n",
      "Кватниль 87% с количеством оценок: 14.0 шт.\n",
      "Кватниль 88% с количеством оценок: 15.0 шт.\n",
      "Кватниль 89% с количеством оценок: 16.0 шт.\n",
      "Кватниль 90% с количеством оценок: 17.0 шт.\n",
      "Кватниль 91% с количеством оценок: 19.0 шт.\n",
      "Кватниль 92% с количеством оценок: 21.0 шт.\n",
      "Кватниль 93% с количеством оценок: 23.0 шт.\n",
      "Кватниль 94% с количеством оценок: 26.0 шт.\n",
      "Кватниль 95% с количеством оценок: 29.0 шт.\n",
      "Кватниль 96% с количеством оценок: 35.0 шт.\n",
      "Кватниль 97% с количеством оценок: 44.0 шт.\n",
      "Кватниль 98% с количеством оценок: 55.0 шт.\n",
      "Кватниль 99% с количеством оценок: 83.03999999999905 шт.\n",
      "Кватниль 100% с количеством оценок: 797.0 шт.\n"
     ]
    }
   ],
   "source": [
    "quantiles = np.arange(75 , 101, 1 , dtype=int)\n",
    "\n",
    "for quantile in quantiles:\n",
    "    c = order_counts.quantile(round(quantile / 100 , 2))['count']\n",
    "    print(\"Кватниль {}% с количеством оценок: {} шт.\".format(quantile , c))"
   ]
  },
  {
   "cell_type": "code",
   "execution_count": 92,
   "metadata": {},
   "outputs": [
    {
     "name": "stdout",
     "output_type": "stream",
     "text": [
      "1368 товаров, которые встречаются в 11 и более заказах\n"
     ]
    }
   ],
   "source": [
    "selected_products = order_counts[order_counts['count'] > count_votes].index\n",
    "print(\"{} товаров, которые встречаются в {} и более заказах\".format(selected_products.shape[0] , count_votes))"
   ]
  },
  {
   "cell_type": "code",
   "execution_count": 93,
   "metadata": {},
   "outputs": [
    {
     "data": {
      "text/html": [
       "<div>\n",
       "<style scoped>\n",
       "    .dataframe tbody tr th:only-of-type {\n",
       "        vertical-align: middle;\n",
       "    }\n",
       "\n",
       "    .dataframe tbody tr th {\n",
       "        vertical-align: top;\n",
       "    }\n",
       "\n",
       "    .dataframe thead th {\n",
       "        text-align: right;\n",
       "    }\n",
       "</style>\n",
       "<table border=\"1\" class=\"dataframe\">\n",
       "  <thead>\n",
       "    <tr style=\"text-align: right;\">\n",
       "      <th></th>\n",
       "      <th>product_id</th>\n",
       "      <th>order_id</th>\n",
       "    </tr>\n",
       "  </thead>\n",
       "  <tbody>\n",
       "    <tr>\n",
       "      <th>0</th>\n",
       "      <td>259</td>\n",
       "      <td>37</td>\n",
       "    </tr>\n",
       "    <tr>\n",
       "      <th>1</th>\n",
       "      <td>154</td>\n",
       "      <td>37</td>\n",
       "    </tr>\n",
       "    <tr>\n",
       "      <th>6</th>\n",
       "      <td>197</td>\n",
       "      <td>128</td>\n",
       "    </tr>\n",
       "    <tr>\n",
       "      <th>7</th>\n",
       "      <td>154</td>\n",
       "      <td>128</td>\n",
       "    </tr>\n",
       "    <tr>\n",
       "      <th>11</th>\n",
       "      <td>184</td>\n",
       "      <td>49</td>\n",
       "    </tr>\n",
       "  </tbody>\n",
       "</table>\n",
       "</div>"
      ],
      "text/plain": [
       "    product_id  order_id\n",
       "0          259        37\n",
       "1          154        37\n",
       "6          197       128\n",
       "7          154       128\n",
       "11         184        49"
      ]
     },
     "execution_count": 93,
     "metadata": {},
     "output_type": "execute_result"
    }
   ],
   "source": [
    "selected_order_products = order_products[order_products['product_id'].isin(selected_products)]\n",
    "selected_order_products = selected_order_products[selected_order_products['order_id'].isin(selected_orders)]\n",
    "selected_order_products.head()"
   ]
  },
  {
   "cell_type": "code",
   "execution_count": 94,
   "metadata": {},
   "outputs": [],
   "source": [
    "#Создаем сводную таблицу product_id | order_id\n",
    "selected_order_products_pivot = selected_order_products.pivot_table(index='product_id', \n",
    "                                                                    columns='order_id',\n",
    "                                                                    aggfunc=lambda x : 1\n",
    "                                                                   ).fillna(0)"
   ]
  },
  {
   "cell_type": "code",
   "execution_count": 95,
   "metadata": {},
   "outputs": [
    {
     "data": {
      "text/plain": [
       "(1365, 10487)"
      ]
     },
     "execution_count": 95,
     "metadata": {},
     "output_type": "execute_result"
    }
   ],
   "source": [
    "selected_order_products_pivot.shape"
   ]
  },
  {
   "cell_type": "code",
   "execution_count": 96,
   "metadata": {},
   "outputs": [
    {
     "data": {
      "text/html": [
       "<div>\n",
       "<style scoped>\n",
       "    .dataframe tbody tr th:only-of-type {\n",
       "        vertical-align: middle;\n",
       "    }\n",
       "\n",
       "    .dataframe tbody tr th {\n",
       "        vertical-align: top;\n",
       "    }\n",
       "\n",
       "    .dataframe thead th {\n",
       "        text-align: right;\n",
       "    }\n",
       "</style>\n",
       "<table border=\"1\" class=\"dataframe\">\n",
       "  <thead>\n",
       "    <tr style=\"text-align: right;\">\n",
       "      <th>order_id</th>\n",
       "      <th>37</th>\n",
       "      <th>49</th>\n",
       "      <th>69</th>\n",
       "      <th>128</th>\n",
       "      <th>216</th>\n",
       "      <th>229</th>\n",
       "      <th>254</th>\n",
       "      <th>323</th>\n",
       "      <th>344</th>\n",
       "      <th>349</th>\n",
       "      <th>...</th>\n",
       "      <th>86489</th>\n",
       "      <th>86511</th>\n",
       "      <th>86531</th>\n",
       "      <th>86553</th>\n",
       "      <th>86595</th>\n",
       "      <th>86633</th>\n",
       "      <th>86639</th>\n",
       "      <th>86665</th>\n",
       "      <th>86717</th>\n",
       "      <th>86748</th>\n",
       "    </tr>\n",
       "    <tr>\n",
       "      <th>product_id</th>\n",
       "      <th></th>\n",
       "      <th></th>\n",
       "      <th></th>\n",
       "      <th></th>\n",
       "      <th></th>\n",
       "      <th></th>\n",
       "      <th></th>\n",
       "      <th></th>\n",
       "      <th></th>\n",
       "      <th></th>\n",
       "      <th></th>\n",
       "      <th></th>\n",
       "      <th></th>\n",
       "      <th></th>\n",
       "      <th></th>\n",
       "      <th></th>\n",
       "      <th></th>\n",
       "      <th></th>\n",
       "      <th></th>\n",
       "      <th></th>\n",
       "      <th></th>\n",
       "    </tr>\n",
       "  </thead>\n",
       "  <tbody>\n",
       "    <tr>\n",
       "      <th>152</th>\n",
       "      <td>0.0</td>\n",
       "      <td>0.0</td>\n",
       "      <td>0.0</td>\n",
       "      <td>0.0</td>\n",
       "      <td>0.0</td>\n",
       "      <td>0.0</td>\n",
       "      <td>0.0</td>\n",
       "      <td>0.0</td>\n",
       "      <td>0.0</td>\n",
       "      <td>0.0</td>\n",
       "      <td>...</td>\n",
       "      <td>0.0</td>\n",
       "      <td>0.0</td>\n",
       "      <td>0.0</td>\n",
       "      <td>0.0</td>\n",
       "      <td>0.0</td>\n",
       "      <td>0.0</td>\n",
       "      <td>0.0</td>\n",
       "      <td>0.0</td>\n",
       "      <td>0.0</td>\n",
       "      <td>0.0</td>\n",
       "    </tr>\n",
       "    <tr>\n",
       "      <th>154</th>\n",
       "      <td>1.0</td>\n",
       "      <td>0.0</td>\n",
       "      <td>1.0</td>\n",
       "      <td>1.0</td>\n",
       "      <td>1.0</td>\n",
       "      <td>0.0</td>\n",
       "      <td>0.0</td>\n",
       "      <td>0.0</td>\n",
       "      <td>0.0</td>\n",
       "      <td>0.0</td>\n",
       "      <td>...</td>\n",
       "      <td>0.0</td>\n",
       "      <td>0.0</td>\n",
       "      <td>0.0</td>\n",
       "      <td>0.0</td>\n",
       "      <td>0.0</td>\n",
       "      <td>0.0</td>\n",
       "      <td>0.0</td>\n",
       "      <td>0.0</td>\n",
       "      <td>0.0</td>\n",
       "      <td>0.0</td>\n",
       "    </tr>\n",
       "    <tr>\n",
       "      <th>156</th>\n",
       "      <td>0.0</td>\n",
       "      <td>0.0</td>\n",
       "      <td>0.0</td>\n",
       "      <td>0.0</td>\n",
       "      <td>0.0</td>\n",
       "      <td>0.0</td>\n",
       "      <td>0.0</td>\n",
       "      <td>0.0</td>\n",
       "      <td>0.0</td>\n",
       "      <td>0.0</td>\n",
       "      <td>...</td>\n",
       "      <td>0.0</td>\n",
       "      <td>0.0</td>\n",
       "      <td>0.0</td>\n",
       "      <td>0.0</td>\n",
       "      <td>0.0</td>\n",
       "      <td>0.0</td>\n",
       "      <td>0.0</td>\n",
       "      <td>0.0</td>\n",
       "      <td>0.0</td>\n",
       "      <td>0.0</td>\n",
       "    </tr>\n",
       "    <tr>\n",
       "      <th>178</th>\n",
       "      <td>0.0</td>\n",
       "      <td>0.0</td>\n",
       "      <td>0.0</td>\n",
       "      <td>0.0</td>\n",
       "      <td>0.0</td>\n",
       "      <td>0.0</td>\n",
       "      <td>0.0</td>\n",
       "      <td>0.0</td>\n",
       "      <td>0.0</td>\n",
       "      <td>0.0</td>\n",
       "      <td>...</td>\n",
       "      <td>0.0</td>\n",
       "      <td>0.0</td>\n",
       "      <td>0.0</td>\n",
       "      <td>0.0</td>\n",
       "      <td>0.0</td>\n",
       "      <td>0.0</td>\n",
       "      <td>0.0</td>\n",
       "      <td>0.0</td>\n",
       "      <td>0.0</td>\n",
       "      <td>0.0</td>\n",
       "    </tr>\n",
       "    <tr>\n",
       "      <th>179</th>\n",
       "      <td>0.0</td>\n",
       "      <td>0.0</td>\n",
       "      <td>0.0</td>\n",
       "      <td>0.0</td>\n",
       "      <td>0.0</td>\n",
       "      <td>0.0</td>\n",
       "      <td>0.0</td>\n",
       "      <td>0.0</td>\n",
       "      <td>0.0</td>\n",
       "      <td>0.0</td>\n",
       "      <td>...</td>\n",
       "      <td>0.0</td>\n",
       "      <td>0.0</td>\n",
       "      <td>0.0</td>\n",
       "      <td>0.0</td>\n",
       "      <td>0.0</td>\n",
       "      <td>0.0</td>\n",
       "      <td>0.0</td>\n",
       "      <td>0.0</td>\n",
       "      <td>0.0</td>\n",
       "      <td>0.0</td>\n",
       "    </tr>\n",
       "  </tbody>\n",
       "</table>\n",
       "<p>5 rows × 10487 columns</p>\n",
       "</div>"
      ],
      "text/plain": [
       "order_id    37     49     69     128    216    229    254    323    344    \\\n",
       "product_id                                                                  \n",
       "152           0.0    0.0    0.0    0.0    0.0    0.0    0.0    0.0    0.0   \n",
       "154           1.0    0.0    1.0    1.0    1.0    0.0    0.0    0.0    0.0   \n",
       "156           0.0    0.0    0.0    0.0    0.0    0.0    0.0    0.0    0.0   \n",
       "178           0.0    0.0    0.0    0.0    0.0    0.0    0.0    0.0    0.0   \n",
       "179           0.0    0.0    0.0    0.0    0.0    0.0    0.0    0.0    0.0   \n",
       "\n",
       "order_id    349    ...    86489  86511  86531  86553  86595  86633  86639  \\\n",
       "product_id         ...                                                      \n",
       "152           0.0  ...      0.0    0.0    0.0    0.0    0.0    0.0    0.0   \n",
       "154           0.0  ...      0.0    0.0    0.0    0.0    0.0    0.0    0.0   \n",
       "156           0.0  ...      0.0    0.0    0.0    0.0    0.0    0.0    0.0   \n",
       "178           0.0  ...      0.0    0.0    0.0    0.0    0.0    0.0    0.0   \n",
       "179           0.0  ...      0.0    0.0    0.0    0.0    0.0    0.0    0.0   \n",
       "\n",
       "order_id    86665  86717  86748  \n",
       "product_id                       \n",
       "152           0.0    0.0    0.0  \n",
       "154           0.0    0.0    0.0  \n",
       "156           0.0    0.0    0.0  \n",
       "178           0.0    0.0    0.0  \n",
       "179           0.0    0.0    0.0  \n",
       "\n",
       "[5 rows x 10487 columns]"
      ]
     },
     "execution_count": 96,
     "metadata": {},
     "output_type": "execute_result"
    }
   ],
   "source": [
    "selected_order_products_pivot.head()"
   ]
  },
  {
   "cell_type": "code",
   "execution_count": 97,
   "metadata": {},
   "outputs": [],
   "source": [
    "product_id_map = selected_order_products_pivot.index"
   ]
  },
  {
   "cell_type": "code",
   "execution_count": 98,
   "metadata": {},
   "outputs": [],
   "source": [
    "order_products_compressed = csc_matrix(selected_order_products_pivot)"
   ]
  },
  {
   "cell_type": "markdown",
   "metadata": {},
   "source": [
    "# Обучение"
   ]
  },
  {
   "cell_type": "code",
   "execution_count": 99,
   "metadata": {},
   "outputs": [
    {
     "name": "stdout",
     "output_type": "stream",
     "text": [
      "CPU times: user 1.24 ms, sys: 264 µs, total: 1.5 ms\n",
      "Wall time: 878 µs\n"
     ]
    },
    {
     "data": {
      "text/plain": [
       "NearestNeighbors(algorithm='auto', leaf_size=30, metric='cosine',\n",
       "         metric_params=None, n_jobs=1, n_neighbors=5, p=2, radius=1.0)"
      ]
     },
     "execution_count": 99,
     "metadata": {},
     "output_type": "execute_result"
    }
   ],
   "source": [
    "nearest = NearestNeighbors(metric='cosine')\n",
    "%time nearest.fit(order_products_compressed)"
   ]
  },
  {
   "cell_type": "code",
   "execution_count": 109,
   "metadata": {},
   "outputs": [],
   "source": [
    "def similar(product_id=156, n=6):\n",
    "    res = nearest.kneighbors([selected_order_products_pivot.loc[product_id]],n_neighbors=n+1 ,return_distance=True)\n",
    "    df = pd.DataFrame(index=res[1][0], data=res[0][0]).sort_values(0)[1:]\n",
    "    return pd.DataFrame(data=selected_order_products_pivot.index[df.index])\n",
    "\n",
    "def related_product(product_id, n=6):\n",
    "    return product_id_map[nearest.kneighbors([selected_order_products_pivot.loc[product_id]],n_neighbors=n+1 ,return_distance=False)[0][1:]]\n"
   ]
  },
  {
   "cell_type": "code",
   "execution_count": 112,
   "metadata": {},
   "outputs": [
    {
     "data": {
      "text/plain": [
       "Int64Index([   37,    49,    69,   128,   216,   229,   254,   323,   344,\n",
       "              349,\n",
       "            ...\n",
       "            86489, 86511, 86531, 86553, 86595, 86633, 86639, 86665, 86717,\n",
       "            86748],\n",
       "           dtype='int64', name='order_id', length=10487)"
      ]
     },
     "execution_count": 112,
     "metadata": {},
     "output_type": "execute_result"
    }
   ],
   "source": []
  },
  {
   "cell_type": "code",
   "execution_count": 110,
   "metadata": {
    "scrolled": false
   },
   "outputs": [
    {
     "data": {
      "text/html": [
       "<div>\n",
       "<style scoped>\n",
       "    .dataframe tbody tr th:only-of-type {\n",
       "        vertical-align: middle;\n",
       "    }\n",
       "\n",
       "    .dataframe tbody tr th {\n",
       "        vertical-align: top;\n",
       "    }\n",
       "\n",
       "    .dataframe thead th {\n",
       "        text-align: right;\n",
       "    }\n",
       "</style>\n",
       "<table border=\"1\" class=\"dataframe\">\n",
       "  <thead>\n",
       "    <tr style=\"text-align: right;\">\n",
       "      <th></th>\n",
       "      <th>name</th>\n",
       "    </tr>\n",
       "    <tr>\n",
       "      <th>product_id</th>\n",
       "      <th></th>\n",
       "    </tr>\n",
       "  </thead>\n",
       "  <tbody>\n",
       "    <tr>\n",
       "      <th>456</th>\n",
       "      <td>ВДВ, Никто кроме нас 2</td>\n",
       "    </tr>\n",
       "    <tr>\n",
       "      <th>460</th>\n",
       "      <td>&amp;quot;За ВДВ&amp;quot;</td>\n",
       "    </tr>\n",
       "    <tr>\n",
       "      <th>458</th>\n",
       "      <td>ВДВ, парашют</td>\n",
       "    </tr>\n",
       "    <tr>\n",
       "      <th>897</th>\n",
       "      <td>Наклейка круглая &amp;quot;ВДВ&amp;quot;</td>\n",
       "    </tr>\n",
       "    <tr>\n",
       "      <th>4563</th>\n",
       "      <td>Россия, вдв</td>\n",
       "    </tr>\n",
       "    <tr>\n",
       "      <th>8418</th>\n",
       "      <td>Бывших десантников не бывает</td>\n",
       "    </tr>\n",
       "    <tr>\n",
       "      <th>7830</th>\n",
       "      <td>За ВДВ (белый купол). Три размера</td>\n",
       "    </tr>\n",
       "    <tr>\n",
       "      <th>459</th>\n",
       "      <td>ВДВ, парашют. Вариант 2.</td>\n",
       "    </tr>\n",
       "    <tr>\n",
       "      <th>4545</th>\n",
       "      <td>Воздушно-десантные войска. ВДВ.</td>\n",
       "    </tr>\n",
       "    <tr>\n",
       "      <th>966</th>\n",
       "      <td>ВДВ не минздрав, предупреждать не будет!</td>\n",
       "    </tr>\n",
       "    <tr>\n",
       "      <th>619</th>\n",
       "      <td>Войска Дяди Васи (Белая наклейка+голубой берет)</td>\n",
       "    </tr>\n",
       "    <tr>\n",
       "      <th>10780</th>\n",
       "      <td>Земля - для каждого, небо - избранным!</td>\n",
       "    </tr>\n",
       "    <tr>\n",
       "      <th>416</th>\n",
       "      <td>Спасибо деду за победу!</td>\n",
       "    </tr>\n",
       "    <tr>\n",
       "      <th>408</th>\n",
       "      <td>Военный с девочкой на руках.</td>\n",
       "    </tr>\n",
       "    <tr>\n",
       "      <th>457</th>\n",
       "      <td>ВДВ, Никто кроме нас</td>\n",
       "    </tr>\n",
       "    <tr>\n",
       "      <th>9020</th>\n",
       "      <td>ВДВ со звездой без парашютиста</td>\n",
       "    </tr>\n",
       "    <tr>\n",
       "      <th>7822</th>\n",
       "      <td>85 лет ВДВ</td>\n",
       "    </tr>\n",
       "    <tr>\n",
       "      <th>7832</th>\n",
       "      <td>Никто кроме нас ВДВ</td>\n",
       "    </tr>\n",
       "    <tr>\n",
       "      <th>6082</th>\n",
       "      <td>Понять и простить!</td>\n",
       "    </tr>\n",
       "    <tr>\n",
       "      <th>7826</th>\n",
       "      <td>За ВДВ. Берет</td>\n",
       "    </tr>\n",
       "    <tr>\n",
       "      <th>9766</th>\n",
       "      <td>Спецназ ГРУ. Военная разведка. Версия 3</td>\n",
       "    </tr>\n",
       "    <tr>\n",
       "      <th>1873</th>\n",
       "      <td>Volkswagen 4</td>\n",
       "    </tr>\n",
       "    <tr>\n",
       "      <th>5955</th>\n",
       "      <td>Спецназ</td>\n",
       "    </tr>\n",
       "    <tr>\n",
       "      <th>788</th>\n",
       "      <td>Спецназ &amp;quot;кто если не мы&amp;quot;</td>\n",
       "    </tr>\n",
       "    <tr>\n",
       "      <th>7833</th>\n",
       "      <td>ВДВ муляж флага</td>\n",
       "    </tr>\n",
       "    <tr>\n",
       "      <th>14450</th>\n",
       "      <td>Там, где чёрт сломает ногу ВДВ найдет дорогу</td>\n",
       "    </tr>\n",
       "    <tr>\n",
       "      <th>2777</th>\n",
       "      <td>Виноградная лоза</td>\n",
       "    </tr>\n",
       "    <tr>\n",
       "      <th>1845</th>\n",
       "      <td>Конь. Вариант 5</td>\n",
       "    </tr>\n",
       "    <tr>\n",
       "      <th>8283</th>\n",
       "      <td>Флаг России.</td>\n",
       "    </tr>\n",
       "    <tr>\n",
       "      <th>11135</th>\n",
       "      <td>warface 5</td>\n",
       "    </tr>\n",
       "  </tbody>\n",
       "</table>\n",
       "</div>"
      ],
      "text/plain": [
       "                                                       name\n",
       "product_id                                                 \n",
       "456                                  ВДВ, Никто кроме нас 2\n",
       "460                                      &quot;За ВДВ&quot;\n",
       "458                                            ВДВ, парашют\n",
       "897                        Наклейка круглая &quot;ВДВ&quot;\n",
       "4563                                            Россия, вдв\n",
       "8418                           Бывших десантников не бывает\n",
       "7830                      За ВДВ (белый купол). Три размера\n",
       "459                                ВДВ, парашют. Вариант 2.\n",
       "4545                        Воздушно-десантные войска. ВДВ.\n",
       "966                ВДВ не минздрав, предупреждать не будет!\n",
       "619         Войска Дяди Васи (Белая наклейка+голубой берет)\n",
       "10780                Земля - для каждого, небо - избранным!\n",
       "416                                 Спасибо деду за победу!\n",
       "408                            Военный с девочкой на руках.\n",
       "457                                    ВДВ, Никто кроме нас\n",
       "9020                         ВДВ со звездой без парашютиста\n",
       "7822                                             85 лет ВДВ\n",
       "7832                                    Никто кроме нас ВДВ\n",
       "6082                                     Понять и простить!\n",
       "7826                                          За ВДВ. Берет\n",
       "9766                Спецназ ГРУ. Военная разведка. Версия 3\n",
       "1873                                           Volkswagen 4\n",
       "5955                                                Спецназ\n",
       "788                      Спецназ &quot;кто если не мы&quot;\n",
       "7833                                        ВДВ муляж флага\n",
       "14450          Там, где чёрт сломает ногу ВДВ найдет дорогу\n",
       "2777                                       Виноградная лоза\n",
       "1845                                        Конь. Вариант 5\n",
       "8283                                           Флаг России.\n",
       "11135                                             warface 5"
      ]
     },
     "execution_count": 110,
     "metadata": {},
     "output_type": "execute_result"
    }
   ],
   "source": [
    "products.loc[related_product(156 , 30)]"
   ]
  },
  {
   "cell_type": "code",
   "execution_count": null,
   "metadata": {},
   "outputs": [],
   "source": []
  },
  {
   "cell_type": "code",
   "execution_count": 102,
   "metadata": {},
   "outputs": [
    {
     "data": {
      "text/html": [
       "<div>\n",
       "<style scoped>\n",
       "    .dataframe tbody tr th:only-of-type {\n",
       "        vertical-align: middle;\n",
       "    }\n",
       "\n",
       "    .dataframe tbody tr th {\n",
       "        vertical-align: top;\n",
       "    }\n",
       "\n",
       "    .dataframe thead th {\n",
       "        text-align: right;\n",
       "    }\n",
       "</style>\n",
       "<table border=\"1\" class=\"dataframe\">\n",
       "  <thead>\n",
       "    <tr style=\"text-align: right;\">\n",
       "      <th></th>\n",
       "      <th>name</th>\n",
       "    </tr>\n",
       "    <tr>\n",
       "      <th>product_id</th>\n",
       "      <th></th>\n",
       "    </tr>\n",
       "  </thead>\n",
       "  <tbody>\n",
       "    <tr>\n",
       "      <th>590</th>\n",
       "      <td>One life... One love...</td>\n",
       "    </tr>\n",
       "    <tr>\n",
       "      <th>521</th>\n",
       "      <td>Бесплатная пробная наклейка (машина)</td>\n",
       "    </tr>\n",
       "    <tr>\n",
       "      <th>632</th>\n",
       "      <td>Долбит нормально</td>\n",
       "    </tr>\n",
       "    <tr>\n",
       "      <th>667</th>\n",
       "      <td>Yahooею с этих дорог</td>\n",
       "    </tr>\n",
       "    <tr>\n",
       "      <th>178</th>\n",
       "      <td>coupe mafia 2108</td>\n",
       "    </tr>\n",
       "    <tr>\n",
       "      <th>968</th>\n",
       "      <td>Иероглиф &amp;quot;Ангел-хранитель&amp;quot; (вертикал...</td>\n",
       "    </tr>\n",
       "    <tr>\n",
       "      <th>622</th>\n",
       "      <td>Моя жизнь... Мои правила...</td>\n",
       "    </tr>\n",
       "    <tr>\n",
       "      <th>748</th>\n",
       "      <td>БПАН</td>\n",
       "    </tr>\n",
       "    <tr>\n",
       "      <th>729</th>\n",
       "      <td>Лобовик без надписи</td>\n",
       "    </tr>\n",
       "    <tr>\n",
       "      <th>509</th>\n",
       "      <td>Live for itself, and already then for others</td>\n",
       "    </tr>\n",
       "    <tr>\n",
       "      <th>640</th>\n",
       "      <td>Иероглиф №02 - Впереди! - Ahead</td>\n",
       "    </tr>\n",
       "    <tr>\n",
       "      <th>1748</th>\n",
       "      <td>По госту</td>\n",
       "    </tr>\n",
       "  </tbody>\n",
       "</table>\n",
       "</div>"
      ],
      "text/plain": [
       "                                                         name\n",
       "product_id                                                   \n",
       "590                                   One life... One love...\n",
       "521                      Бесплатная пробная наклейка (машина)\n",
       "632                                          Долбит нормально\n",
       "667                                      Yahooею с этих дорог\n",
       "178                                          coupe mafia 2108\n",
       "968         Иероглиф &quot;Ангел-хранитель&quot; (вертикал...\n",
       "622                               Моя жизнь... Мои правила...\n",
       "748                                                      БПАН\n",
       "729                                       Лобовик без надписи\n",
       "509              Live for itself, and already then for others\n",
       "640                           Иероглиф №02 - Впереди! - Ahead\n",
       "1748                                                 По госту"
      ]
     },
     "execution_count": 102,
     "metadata": {},
     "output_type": "execute_result"
    }
   ],
   "source": [
    "products.loc[related_product(505 , 12)]"
   ]
  },
  {
   "cell_type": "code",
   "execution_count": 103,
   "metadata": {},
   "outputs": [
    {
     "name": "stdout",
     "output_type": "stream",
     "text": [
      "CPU times: user 5.45 ms, sys: 3.45 ms, total: 8.91 ms\n",
      "Wall time: 9.07 ms\n"
     ]
    },
    {
     "data": {
      "text/html": [
       "<div>\n",
       "<style scoped>\n",
       "    .dataframe tbody tr th:only-of-type {\n",
       "        vertical-align: middle;\n",
       "    }\n",
       "\n",
       "    .dataframe tbody tr th {\n",
       "        vertical-align: top;\n",
       "    }\n",
       "\n",
       "    .dataframe thead th {\n",
       "        text-align: right;\n",
       "    }\n",
       "</style>\n",
       "<table border=\"1\" class=\"dataframe\">\n",
       "  <thead>\n",
       "    <tr style=\"text-align: right;\">\n",
       "      <th></th>\n",
       "      <th>name</th>\n",
       "    </tr>\n",
       "    <tr>\n",
       "      <th>product_id</th>\n",
       "      <th></th>\n",
       "    </tr>\n",
       "  </thead>\n",
       "  <tbody>\n",
       "    <tr>\n",
       "      <th>14607</th>\n",
       "      <td>Стильбешеный</td>\n",
       "    </tr>\n",
       "    <tr>\n",
       "      <th>12178</th>\n",
       "      <td>Ломай, чини, жигули</td>\n",
       "    </tr>\n",
       "    <tr>\n",
       "      <th>192</th>\n",
       "      <td>sedan syndicate 2106</td>\n",
       "    </tr>\n",
       "    <tr>\n",
       "      <th>10245</th>\n",
       "      <td>Питбуль 3</td>\n",
       "    </tr>\n",
       "    <tr>\n",
       "      <th>18721</th>\n",
       "      <td>Летняя резина</td>\n",
       "    </tr>\n",
       "    <tr>\n",
       "      <th>1165</th>\n",
       "      <td>Не жди принца на белом PORSHE, люби пацана на ...</td>\n",
       "    </tr>\n",
       "  </tbody>\n",
       "</table>\n",
       "</div>"
      ],
      "text/plain": [
       "                                                         name\n",
       "product_id                                                   \n",
       "14607                                            Стильбешеный\n",
       "12178                                     Ломай, чини, жигули\n",
       "192                                      sedan syndicate 2106\n",
       "10245                                               Питбуль 3\n",
       "18721                                           Летняя резина\n",
       "1165        Не жди принца на белом PORSHE, люби пацана на ..."
      ]
     },
     "execution_count": 103,
     "metadata": {},
     "output_type": "execute_result"
    }
   ],
   "source": [
    "%time products.loc[similar(5822)['product_id']]"
   ]
  },
  {
   "cell_type": "code",
   "execution_count": 104,
   "metadata": {},
   "outputs": [
    {
     "data": {
      "text/html": [
       "<div>\n",
       "<style scoped>\n",
       "    .dataframe tbody tr th:only-of-type {\n",
       "        vertical-align: middle;\n",
       "    }\n",
       "\n",
       "    .dataframe tbody tr th {\n",
       "        vertical-align: top;\n",
       "    }\n",
       "\n",
       "    .dataframe thead th {\n",
       "        text-align: right;\n",
       "    }\n",
       "</style>\n",
       "<table border=\"1\" class=\"dataframe\">\n",
       "  <thead>\n",
       "    <tr style=\"text-align: right;\">\n",
       "      <th></th>\n",
       "      <th>name</th>\n",
       "    </tr>\n",
       "    <tr>\n",
       "      <th>product_id</th>\n",
       "      <th></th>\n",
       "    </tr>\n",
       "  </thead>\n",
       "  <tbody>\n",
       "    <tr>\n",
       "      <th>9795</th>\n",
       "      <td>Космические войска</td>\n",
       "    </tr>\n",
       "    <tr>\n",
       "      <th>4687</th>\n",
       "      <td>bbs</td>\n",
       "    </tr>\n",
       "    <tr>\n",
       "      <th>8300</th>\n",
       "      <td>Я за что плачу налоги</td>\n",
       "    </tr>\n",
       "    <tr>\n",
       "      <th>9698</th>\n",
       "      <td>DOLBIT ZAEBIS</td>\n",
       "    </tr>\n",
       "    <tr>\n",
       "      <th>1318</th>\n",
       "      <td>Троль</td>\n",
       "    </tr>\n",
       "    <tr>\n",
       "      <th>3845</th>\n",
       "      <td>Кот и паук</td>\n",
       "    </tr>\n",
       "  </tbody>\n",
       "</table>\n",
       "</div>"
      ],
      "text/plain": [
       "                             name\n",
       "product_id                       \n",
       "9795           Космические войска\n",
       "4687                          bbs\n",
       "8300        Я за что плачу налоги\n",
       "9698                DOLBIT ZAEBIS\n",
       "1318                        Троль\n",
       "3845                   Кот и паук"
      ]
     },
     "execution_count": 104,
     "metadata": {},
     "output_type": "execute_result"
    }
   ],
   "source": [
    "products.loc[related_product(5538)]"
   ]
  },
  {
   "cell_type": "code",
   "execution_count": 105,
   "metadata": {},
   "outputs": [
    {
     "data": {
      "text/plain": [
       "Int64Index([9795, 4687, 8300, 9698, 1318, 3845], dtype='int64', name='product_id')"
      ]
     },
     "execution_count": 105,
     "metadata": {},
     "output_type": "execute_result"
    }
   ],
   "source": [
    "related_product(5538)"
   ]
  },
  {
   "cell_type": "code",
   "execution_count": 114,
   "metadata": {},
   "outputs": [],
   "source": [
    "out_pd = pd.DataFrame(columns=['product_id' , 'related_id'])\n",
    "i = 0\n",
    "for product_id in selected_order_products_pivot.index:\n",
    "    for related_id in related_product(product_id , 12):\n",
    "        out_pd.loc[i] = [product_id , related_id]\n",
    "        i += 1"
   ]
  },
  {
   "cell_type": "code",
   "execution_count": 82,
   "metadata": {},
   "outputs": [],
   "source": [
    "out_pd.to_csv('../data/product_related.csv' ,\n",
    "              sep=';',\n",
    "              columns=['product_id' , 'related_id'],\n",
    "              index=False\n",
    "             )"
   ]
  }
 ],
 "metadata": {
  "kernelspec": {
   "display_name": "Python 3",
   "language": "python",
   "name": "python3"
  },
  "language_info": {
   "codemirror_mode": {
    "name": "ipython",
    "version": 3
   },
   "file_extension": ".py",
   "mimetype": "text/x-python",
   "name": "python",
   "nbconvert_exporter": "python",
   "pygments_lexer": "ipython3",
   "version": "3.5.2"
  }
 },
 "nbformat": 4,
 "nbformat_minor": 2
}
